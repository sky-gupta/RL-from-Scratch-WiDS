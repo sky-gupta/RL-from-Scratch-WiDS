{
 "cells": [
  {
   "cell_type": "markdown",
   "metadata": {},
   "source": [
    "### Assignment : Week 2\n",
    "## Finding best policies in simple MDPs\n",
    "\n",
    "Great work making the MDPs in Week 1!\n",
    "\n",
    "In this assignment, we'll use the simplest RL techniques - Policy and Value iteration to find the best policies (which maximize the discounted total reward) in our MDPs from last week.\n",
    "\n",
    "Feel free to use your own MDPs, or import them from the OpenAI Gym library.\n",
    "\n",
    "You can start this assignment during/after reading Grokking Ch-3."
   ]
  },
  {
   "cell_type": "markdown",
   "metadata": {},
   "source": [
    "Let us recall the equation to find the value function of agent's states under a policy $\\pi$ -\n",
    "$$v_{\\pi}(s) = \\sum _{a} \\pi(a|s) ~ \\left( ~ \\sum _{s', r} ~ p(s', r | s, a) ~ \\left[r + \\gamma v_{\\pi}(s') \\right] ~ \\right)$$\n",
    "\n",
    "We can observe that the value function $v_{\\pi}$ has a lot of circular dependencies on different states. \n",
    "\n",
    "To solve such equations, one of the ways is to iteratively calculate the RHS and replace the LHS by it until the $v_{\\pi}(s)$ values start to converge. \n",
    "\n",
    "The point of convergence makes all the equations simultaneously true and hence is the required solution."
   ]
  },
  {
   "cell_type": "markdown",
   "metadata": {},
   "source": [
    "Let us calculate the value functions for some policies in the MDPs we created last week."
   ]
  },
  {
   "cell_type": "markdown",
   "metadata": {},
   "source": [
    "## Environment 0 - Bandit Walk\n",
    "\n",
    "Again, we consider the BW environment on Page 39.\n",
    "\n",
    "Let's consider what seems to be the most natural policy - always go Right.\n",
    "\n",
    "This environment is so simple, that we can simply calculate the value functions by hand."
   ]
  },
  {
   "cell_type": "markdown",
   "metadata": {},
   "source": [
    "Note that by convention for the terminal states, \n",
    "$$v_{\\pi}(0) = v_{\\pi}(2) = 0$$\n",
    "\n",
    "Now, \n",
    "$$v_{\\pi}(1) = 1 + \\gamma \\cdot v_{\\pi}(2) = 1$$\n",
    "\n",
    "Note both the summations just have one term due to the deterministic nature of the environment and the policy (check which summation was corresponding to which stochastic variable)"
   ]
  },
  {
   "cell_type": "markdown",
   "metadata": {},
   "source": [
    "## Environment 1 - Slippery Walk\n",
    "\n",
    "Let's now try to solve the SWF environment from Page 67 for the naturally adversarial policy - always go Left.\n",
    "\n",
    "Since we have 5 coupled equations for states 1-5 with 5 unknown variables, we'll use Python to bruteforce the solution.\n",
    "\n",
    "To align with Grokking, let us consider an unusual $\\gamma = 1$."
   ]
  },
  {
   "cell_type": "code",
   "execution_count": 1,
   "metadata": {},
   "outputs": [],
   "source": [
    "# Step 0 is to import stuff\n",
    "\n",
    "import gym, gym_walk\n",
    "import numpy as np\n",
    "from gym.envs.toy_text.frozen_lake import generate_random_map"
   ]
  },
  {
   "cell_type": "code",
   "execution_count": 180,
   "metadata": {},
   "outputs": [],
   "source": [
    "# Step 1 is to get the MDP\n",
    "\n",
    "env = gym.make('SlipperyWalkFive-v0')\n",
    "swf_mdp = env.P\n",
    "# swf_mdp\n",
    "\n",
    "# Note that in Gym, action \"Left\" is \"0\" and \"Right\" is \"1\""
   ]
  },
  {
   "cell_type": "code",
   "execution_count": 169,
   "metadata": {},
   "outputs": [],
   "source": [
    "# Step 2 is to write the policy\n",
    "\n",
    "pi = {\n",
    "    0 : 0,\n",
    "    1 : 0,\n",
    "    2 : 0,\n",
    "    3 : 0,\n",
    "    4 : 0,\n",
    "    5 : 0,\n",
    "    6 : 0\n",
    "}\n",
    "\n",
    "# Or you can do it randomly\n",
    "# pi = dict()\n",
    "# for state in mdp:\n",
    "#     pi[state] = np.random.choice(mdp[state].keys())"
   ]
  },
  {
   "cell_type": "code",
   "execution_count": 170,
   "metadata": {},
   "outputs": [],
   "source": [
    "# Step 3 is computing the value function for this envi and policy\n",
    "\n",
    "# Let us start with a random value function\n",
    "\n",
    "val = dict()\n",
    "for state in swf_mdp:\n",
    "    val[state] = np.random.random()\n",
    "\n",
    "# Since 0 and 6 are terminal states, we know their values are 0\n",
    "\n",
    "val[0] = 0\n",
    "val[6] = 0\n",
    "\n",
    "#Or you could do it randomly, remember to set the terminal states to 0. You can also implement this while evaluating the value function using \n",
    "# val = dict()\n",
    "# for state in mdp:\n",
    "#     val[state] = np.random.random()\n",
    "#     if mdp[state][0][0][0] == 0: # if the first action in the first outcome of the first state is 0, then it is a terminal state\n",
    "#         val[state] = 0\n",
    "\n",
    "#instead of doing thsi you can simply intialize the value function to 0 for all states \n",
    "# for state in swf_mdp:\n",
    "#   val[state] = 0"
   ]
  },
  {
   "cell_type": "code",
   "execution_count": 171,
   "metadata": {},
   "outputs": [],
   "source": [
    "def get_new_value_fn(val, mdp, pi, gamma = 1.0):\n",
    "    \n",
    "    new_val = dict()\n",
    "    # Complete this function to get the new value function given the old value function and the policy\n",
    "    return new_val"
   ]
  },
  {
   "cell_type": "code",
   "execution_count": 172,
   "metadata": {},
   "outputs": [],
   "source": [
    "#Use to above function to get the new value function, also print how many iterations it took to converge\n",
    "def policy_evaluation(val, mdp, pi, epsilon=1e-10, gamma=1.0):\n",
    "    count = 0\n",
    "    # Complete this function to iteratively caluculate the value function until the difference between the new and old value function is less than epsilon\n",
    "    # Also return the number of iterations it took to converge\n",
    "    return val, count "
   ]
  },
  {
   "cell_type": "code",
   "execution_count": 173,
   "metadata": {},
   "outputs": [],
   "source": [
    "# Perform policy improvement using the polivy and the value function and return a new policy, the action value function should be a nested dictionary\n",
    "def policy_improvement(val, mdp, gamma=1.0):\n",
    "    new_pi = dict()\n",
    "    q = dict()\n",
    "    # Complete this function to get the new policy given the value function and the mdp\n",
    "    return new_pi, q\n"
   ]
  },
  {
   "cell_type": "code",
   "execution_count": 174,
   "metadata": {},
   "outputs": [],
   "source": [
    "# Use the above functions to get the optimal policy and optimal value function and return the total number of iterations it took to converge\n",
    "# Create a random policy and value function to start with or use the ones defined above\n",
    "def policy_iteration(mdp, epsilon=1e-10, gamma=1.0):\n",
    "    pi = dict()\n",
    "    val = dict()\n",
    "    count = 0\n",
    "    # Complete this function to get the optimal policy and value function and return the total number of iterations it took to converge\n",
    "    return pi, val, count"
   ]
  },
  {
   "cell_type": "code",
   "execution_count": 175,
   "metadata": {},
   "outputs": [],
   "source": [
    "#Now perform value iteration, note that the value function is a dictionary and not a list, also return the number of iterations it took to converge\n",
    "def value_iteration(mdp, gamma=1.0, epsilon=1e-10):\n",
    "    val = {s: 0 for s in mdp}\n",
    "    count = 0\n",
    "    q = dict()\n",
    "    # Complete this function to get the optimal policy, optimal value function and return the total number of iterations it took to converge\n",
    "    pi = {s: max(q[s], key=q[s].get) for s in mdp}\n",
    "    return pi, val, count\n",
    "    "
   ]
  },
  {
   "cell_type": "markdown",
   "metadata": {},
   "source": [
    "## Enviroment 2 - Frozen Lake\n",
    "\n",
    "Repeat the above steps for the frozen lake environment. Don't create new functions , use the old functions.\n",
    "\n",
    "You can also write a function `test_policy()` to test your policy after training to find the number of times you reached the goal state"
   ]
  },
  {
   "cell_type": "markdown",
   "metadata": {},
   "source": []
  },
  {
   "cell_type": "code",
   "execution_count": 3,
   "metadata": {},
   "outputs": [],
   "source": [
    "env2 = gym.make('FrozenLake-v1',desc=generate_random_map(size=4))\n",
    "mdp2 = env2.P"
   ]
  },
  {
   "cell_type": "code",
   "execution_count": null,
   "metadata": {},
   "outputs": [],
   "source": [
    "pi1, val1, count1 = policy_iteration(mdp2)\n",
    "pi2, val2, count2 = value_iteration(mdp2)"
   ]
  },
  {
   "cell_type": "code",
   "execution_count": null,
   "metadata": {},
   "outputs": [],
   "source": [
    "def test_policy(pi, env, goalstate):\n",
    "    # Complete this function to test the policy\n",
    "    return"
   ]
  }
 ],
 "metadata": {
  "kernelspec": {
   "display_name": "Python 3",
   "language": "python",
   "name": "python3"
  },
  "language_info": {
   "codemirror_mode": {
    "name": "ipython",
    "version": 3
   },
   "file_extension": ".py",
   "mimetype": "text/x-python",
   "name": "python",
   "nbconvert_exporter": "python",
   "pygments_lexer": "ipython3",
   "version": "3.10.7"
  }
 },
 "nbformat": 4,
 "nbformat_minor": 2
}
